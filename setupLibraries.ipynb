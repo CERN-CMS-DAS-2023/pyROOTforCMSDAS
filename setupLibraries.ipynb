{
 "cells": [
  {
   "cell_type": "markdown",
   "metadata": {},
   "source": [
    "# Loading CMSSW into Jupyter\n",
    "\n",
    "To teach Jupyter about a new environment, we will create a new `kernel`. In Jupyter, kernels are different combinations of languages and libraries. So, for instance, one kernel could be a python kernel with CMSSW_9_1_0 and another would be CMSSW_8_1_0. This exercise uses CMSSW_10_3_1, so we'll make a new kernel called `cmsdas-preexercise`, which links to CMSSW_10_3_1.\n",
    "\n",
    "To make the kernel, select the cell below and press `Shift+Enter`. Don't worry about the contents of the cell, this is simply code to make a CMSSW checkout, create a wrapper script, then teach Jupyter about that script."
   ]
  },
  {
   "cell_type": "code",
   "execution_count": null,
   "metadata": {},
   "outputs": [],
   "source": [
    "%%bash\n",
    "#!/bin/bash\n",
    "\n",
    "CMSSW_VER=\"CMSSW_10_3_1\"\n",
    "KERNEL_NAME=\"cmsdas-preexercise\"\n",
    "\n",
    "set -e\n",
    "# Get the CMSSW libraries (specifically ROOT)\n",
    "SCRAM_ARCH=$(ls -d /cvmfs/cms.cern.ch/$(/cvmfs/cms.cern.ch/common/cmsos)*/cms/cmssw/${CMSSW_VER} | tail -n 1 | awk -F / '{ print $4 }')\n",
    "export SCRAM_ARCH\n",
    "source /cvmfs/cms.cern.ch/cmsset_default.sh\n",
    "if [ ! -d cmssw-env ]; then\n",
    "    scramv1 project --name cmssw-env CMSSW $CMSSW_VER \n",
    "fi\n",
    "\n",
    "# Now, install additional python packages\n",
    "cd cmssw-env\n",
    "eval `scramv1 runtime -sh`\n",
    "\n",
    "# Make a wrapper script to load CMSSW python\n",
    "cat << 'EOF' > bin/python_wrapper2.sh\n",
    "#!/bin/bash\n",
    "DIR=\"$( cd \"$( dirname \"${BASH_SOURCE[0]}\" )\" && pwd )\"\n",
    "source /cvmfs/cms.cern.ch/cmsset_default.sh\n",
    "pushd $DIR\n",
    "eval `scramv1 runtime -sh`\n",
    "popd\n",
    "exec python2 \"$@\"\n",
    "EOF\n",
    "chmod +x bin/python_wrapper2.sh\n",
    "\n",
    "# Create the kernel\n",
    "mkdir -p \"$HOME/.local/share/jupyter/kernels/$KERNEL_NAME\"\n",
    "cat << EOF > \"$HOME/.local/share/jupyter/kernels/$KERNEL_NAME/kernel.json\"\n",
    "{\n",
    " \"display_name\": \"$KERNEL_NAME\", \n",
    " \"language\": \"python\", \n",
    " \"argv\": [\n",
    "  \"$PWD/bin/python_wrapper2.sh\", \n",
    "  \"-m\", \n",
    "  \"IPython.kernel\", \n",
    "  \"-f\", \n",
    "  \"{connection_file}\"\n",
    " ]\n",
    "}\n",
    "EOF\n",
    "\n",
    "# Report OK\n",
    "echo \"Loaded $CMSSW_VERSION into $KERNEL_NAME!\""
   ]
  },
  {
   "cell_type": "markdown",
   "metadata": {},
   "source": [
    "If you see\n",
    "```\n",
    "Loaded CMSSW_10_3_1 into cmsdas-preexercise!\n",
    "```\n",
    "in the previous output, then you successfully loaded your kernel! Please select `File -> Close and Halt` from the menu to close this notebook, and proceed to the `exercises` notebook in the file browser"
   ]
  }
 ],
 "metadata": {
  "kernelspec": {
   "display_name": "Python 2",
   "language": "python",
   "name": "python2"
  },
  "language_info": {
   "codemirror_mode": {
    "name": "ipython",
    "version": 2
   },
   "file_extension": ".py",
   "mimetype": "text/x-python",
   "name": "python",
   "nbconvert_exporter": "python",
   "pygments_lexer": "ipython2",
   "version": "2.7.5"
  }
 },
 "nbformat": 4,
 "nbformat_minor": 2
}
